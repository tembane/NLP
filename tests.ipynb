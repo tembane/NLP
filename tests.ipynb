{
 "cells": [
  {
   "cell_type": "code",
   "outputs": [],
   "source": [
    "import os\n",
    "import pandas as pd\n",
    "from googleapiclient.discovery import build\n",
    "import regex\n",
    "\n",
    "API_KEY: str = os.getenv('GOOGLE_API_KEY')\n",
    "service = build('youtube', 'v3', developerKey=API_KEY)\n",
    "\n",
    "\n",
    "def is_valid_sentence(text: str) -> bool:\n",
    "    \"\"\"Checks if the sentence is valid based on the given pattern.\"\"\"\n",
    "    pattern = regex.compile(r'^\\p{So}*\\s*\\P{So}\\s*[\\p{L}\\d\\s.,!?\"\\'():;-]*\\s*\\P{So}\\s*$')\n",
    "    return bool(pattern.match(text))\n",
    "\n",
    "\n",
    "def snippet_to_dict(snippet: dict, performer: str) -> dict:\n",
    "    \"\"\"Converts a comment snippet to a language-added dictionary.\"\"\"\n",
    "    return {\n",
    "        'ChannelName': performer,\n",
    "        'VideoId': snippet['videoId'],\n",
    "        'Author': snippet['authorDisplayName'],\n",
    "        'Comment': snippet['textOriginal'],\n",
    "    }\n",
    "\n",
    "\n",
    "def get_channel_id_by_name(channel_name: str) -> tuple | None:\n",
    "    search_response = service.search().list(\n",
    "        q=channel_name,\n",
    "        part='snippet',\n",
    "        type='channel',\n",
    "        maxResults=1\n",
    "    ).execute()\n",
    "    if search_response['items']:\n",
    "        channel_id = search_response['items'][0]['snippet']['channelId']\n",
    "        channel_title = search_response['items'][0]['snippet']['title']\n",
    "        return channel_id, channel_title\n",
    "    else:\n",
    "        return None\n",
    "\n",
    "\n",
    "def get_channels_id() -> dict:\n",
    "    channels = {}\n",
    "    numbers_of_channels = int(input(\"Enter number of channels: \"))\n",
    "    for i in range(numbers_of_channels):\n",
    "        nickname: str = input(\"Enter channel nickname: ex'@nickname'\")\n",
    "        channel_id, channel_title = get_channel_id_by_name(nickname)\n",
    "        if channel_id is not None:\n",
    "            channels[channel_id] = channel_title\n",
    "    return channels\n",
    "\n",
    "\n",
    "def get_comments() -> pd.DataFrame:\n",
    "    comments: list[dict] = []\n",
    "    channels = get_channels_id()\n",
    "    pages = int(input(\"Input pages numbers: \"))\n",
    "    for ids, performer in channels.items():\n",
    "        args = {\n",
    "            'allThreadsRelatedToChannelId': ids,\n",
    "            'part': 'id, snippet, replies',\n",
    "            'maxResults': 20\n",
    "        }\n",
    "        for page in range(pages):\n",
    "            comment_threads = service.commentThreads().list(**args).execute()\n",
    "            for item in comment_threads['items']:\n",
    "                top_level_comment = item['snippet']['topLevelComment']\n",
    "                comment_snippet = top_level_comment['snippet']\n",
    "                comments.append(snippet_to_dict(comment_snippet, performer))\n",
    "                if 'replies' in item:\n",
    "                    reply = item['replies']\n",
    "                    for rep in reply['comments']:\n",
    "                        comments.append(snippet_to_dict(rep['snippet'], performer))\n",
    "            args['pageToken'] = comment_threads.get('nextPageToken')\n",
    "            if not args['pageToken']:\n",
    "                break\n",
    "    return pd.DataFrame(comments)"
   ],
   "metadata": {
    "collapsed": false,
    "ExecuteTime": {
     "end_time": "2024-02-16T13:35:50.163081400Z",
     "start_time": "2024-02-16T13:35:50.142714500Z"
    }
   },
   "id": "a44b78443c338221",
   "execution_count": 3
  },
  {
   "cell_type": "code",
   "outputs": [],
   "source": [
    "comments = get_comments()"
   ],
   "metadata": {
    "collapsed": false,
    "ExecuteTime": {
     "end_time": "2024-02-16T13:36:27.840892900Z",
     "start_time": "2024-02-16T13:35:51.403853400Z"
    }
   },
   "id": "3f87c7d6e5d59d18",
   "execution_count": 4
  },
  {
   "cell_type": "code",
   "outputs": [
    {
     "data": {
      "text/plain": "    ChannelName      VideoId                 Author  \\\n0  Taylor Swift  9Wx2It8SbLs       @enzaiandolo9652   \n1  Taylor Swift  zz9YgUoisOA  @MaddieWilliams-gb8qo   \n2  Taylor Swift  ilkvTXfv2TY      @LynnJeremy-xy2hf   \n3  Taylor Swift  pQq9eP5OFhw            @lamabambam   \n4  Taylor Swift  Mi-FBBqUuJE           @Agggtm22_11   \n\n                                             Comment  \n0                             Benjamin is so cuteeee  \n1                I love your videos and songs TAYLOR  \n2                                         Wow taylor  \n3  Stop, your losing me to sea taffy! Yeah, you'r...  \n4  Am I the only one who wants the first fans to ...  ",
      "text/html": "<div>\n<style scoped>\n    .dataframe tbody tr th:only-of-type {\n        vertical-align: middle;\n    }\n\n    .dataframe tbody tr th {\n        vertical-align: top;\n    }\n\n    .dataframe thead th {\n        text-align: right;\n    }\n</style>\n<table border=\"1\" class=\"dataframe\">\n  <thead>\n    <tr style=\"text-align: right;\">\n      <th></th>\n      <th>ChannelName</th>\n      <th>VideoId</th>\n      <th>Author</th>\n      <th>Comment</th>\n    </tr>\n  </thead>\n  <tbody>\n    <tr>\n      <th>0</th>\n      <td>Taylor Swift</td>\n      <td>9Wx2It8SbLs</td>\n      <td>@enzaiandolo9652</td>\n      <td>Benjamin is so cuteeee</td>\n    </tr>\n    <tr>\n      <th>1</th>\n      <td>Taylor Swift</td>\n      <td>zz9YgUoisOA</td>\n      <td>@MaddieWilliams-gb8qo</td>\n      <td>I love your videos and songs TAYLOR</td>\n    </tr>\n    <tr>\n      <th>2</th>\n      <td>Taylor Swift</td>\n      <td>ilkvTXfv2TY</td>\n      <td>@LynnJeremy-xy2hf</td>\n      <td>Wow taylor</td>\n    </tr>\n    <tr>\n      <th>3</th>\n      <td>Taylor Swift</td>\n      <td>pQq9eP5OFhw</td>\n      <td>@lamabambam</td>\n      <td>Stop, your losing me to sea taffy! Yeah, you'r...</td>\n    </tr>\n    <tr>\n      <th>4</th>\n      <td>Taylor Swift</td>\n      <td>Mi-FBBqUuJE</td>\n      <td>@Agggtm22_11</td>\n      <td>Am I the only one who wants the first fans to ...</td>\n    </tr>\n  </tbody>\n</table>\n</div>"
     },
     "execution_count": 9,
     "metadata": {},
     "output_type": "execute_result"
    }
   ],
   "source": [
    "comments.head()"
   ],
   "metadata": {
    "collapsed": false,
    "ExecuteTime": {
     "end_time": "2024-02-16T13:38:40.853882300Z",
     "start_time": "2024-02-16T13:38:40.841762Z"
    }
   },
   "id": "35299d5f149f94a6",
   "execution_count": 9
  },
  {
   "cell_type": "code",
   "outputs": [
    {
     "name": "stdout",
     "output_type": "stream",
     "text": [
      "<class 'pandas.core.frame.DataFrame'>\n",
      "RangeIndex: 421 entries, 0 to 420\n",
      "Data columns (total 4 columns):\n",
      " #   Column       Non-Null Count  Dtype \n",
      "---  ------       --------------  ----- \n",
      " 0   ChannelName  421 non-null    object\n",
      " 1   VideoId      421 non-null    object\n",
      " 2   Author       421 non-null    object\n",
      " 3   Comment      421 non-null    object\n",
      "dtypes: object(4)\n",
      "memory usage: 183.8 KB\n"
     ]
    }
   ],
   "source": [
    "comments.info(memory_usage='deep')"
   ],
   "metadata": {
    "collapsed": false,
    "ExecuteTime": {
     "end_time": "2024-02-16T13:40:05.799600700Z",
     "start_time": "2024-02-16T13:40:05.779641900Z"
    }
   },
   "id": "9f6e7e0bbf728064",
   "execution_count": 12
  },
  {
   "cell_type": "code",
   "outputs": [],
   "source": [],
   "metadata": {
    "collapsed": false
   },
   "id": "78dd3c545e9dd9d2"
  }
 ],
 "metadata": {
  "kernelspec": {
   "display_name": "Python 3",
   "language": "python",
   "name": "python3"
  },
  "language_info": {
   "codemirror_mode": {
    "name": "ipython",
    "version": 2
   },
   "file_extension": ".py",
   "mimetype": "text/x-python",
   "name": "python",
   "nbconvert_exporter": "python",
   "pygments_lexer": "ipython2",
   "version": "2.7.6"
  }
 },
 "nbformat": 4,
 "nbformat_minor": 5
}
